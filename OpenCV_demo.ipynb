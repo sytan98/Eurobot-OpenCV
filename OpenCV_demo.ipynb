{
 "cells": [
  {
   "cell_type": "code",
   "execution_count": null,
   "metadata": {},
   "outputs": [],
   "source": [
    "import numpy as np\n",
    "import cv2\n",
    "\n",
    "cap = cv2.VideoCapture(0) #change for external cameras\n",
    "\n",
    "while(True):\n",
    "    # capture frame-by-frame\n",
    "    _, frame = cap.read()\n",
    "\n",
    "    # operations on the frame\n",
    "    hsv = cv2.cvtColor(frame, cv2.COLOR_BGR2HSV)\n",
    "    \n",
    "    \n",
    "    # https://www.learnopencv.com/invisibility-cloak-using-color-detection-and-segmentation-with-opencv/\n",
    "    # Range for lower red\n",
    "    lower_red = np.array([50,120,70])\n",
    "    upper_red = np.array([60,255,255])\n",
    "    mask1 = cv2.inRange(hsv, lower_red, upper_red)\n",
    "\n",
    "    # Range for upper range\n",
    "    lower_red = np.array([170,120,70])\n",
    "    upper_red = np.array([180,255,255])\n",
    "    mask2 = cv2.inRange(hsv,lower_red,upper_red)\n",
    "\n",
    "    # Generating the final mask to detect red color\n",
    "    red_mask = mask1+mask2\n",
    "    \n",
    "    \n",
    "    #red_mask = cv2.inRange(hsv, lower_red, upper_red)\n",
    "    \n",
    "    (contours,_) = cv2.findContours(red_mask, cv2.RETR_TREE,cv2.CHAIN_APPROX_SIMPLE)\n",
    "    \n",
    "    for contour in contours:\n",
    "        area = cv2.contourArea(contour)\n",
    "\n",
    "        if(area > 400):\n",
    "            x,y,w,h = cv2.boundingRect(contour)\n",
    "            frame = cv2.rectangle(frame, (x,y),(x+w,y+h),(0,255,0),5)\n",
    "    \n",
    "    \n",
    "\n",
    "    # display the processed frame\n",
    "    cv2.imshow(\"tracking\", frame)\n",
    "    \n",
    "    # press q to quit\n",
    "    if cv2.waitKey(1) & 0xFF == ord('q'):\n",
    "        break\n",
    "\n",
    "# When everything done, release the capture\n",
    "cap.release()\n",
    "cv2.destroyAllWindows()"
   ]
  },
  {
   "cell_type": "code",
   "execution_count": null,
   "metadata": {},
   "outputs": [],
   "source": []
  },
  {
   "cell_type": "code",
   "execution_count": null,
   "metadata": {},
   "outputs": [],
   "source": [
    "print(\"hello world\")"
   ]
  },
  {
   "cell_type": "code",
   "execution_count": null,
   "metadata": {},
   "outputs": [],
   "source": [
    "#https://www.instructables.com/id/Color-Detection-and-Tracking-Using-Open-CV-Python/"
   ]
  },
  {
   "cell_type": "code",
   "execution_count": null,
   "metadata": {},
   "outputs": [],
   "source": []
  }
 ],
 "metadata": {
  "kernelspec": {
   "display_name": "Python 3",
   "language": "python",
   "name": "python3"
  },
  "language_info": {
   "codemirror_mode": {
    "name": "ipython",
    "version": 3
   },
   "file_extension": ".py",
   "mimetype": "text/x-python",
   "name": "python",
   "nbconvert_exporter": "python",
   "pygments_lexer": "ipython3",
   "version": "3.6.8"
  }
 },
 "nbformat": 4,
 "nbformat_minor": 2
}
